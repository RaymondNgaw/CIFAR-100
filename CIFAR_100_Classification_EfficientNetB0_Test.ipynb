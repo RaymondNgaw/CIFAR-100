{
 "cells": [
  {
   "cell_type": "markdown",
   "metadata": {},
   "source": [
    "## CIFAR-100 Classification\n",
    "\n",
    "In this dataset, we'll primarily be testing EfficientNetB0 to see if base classification is efficient."
   ]
  },
  {
   "cell_type": "code",
   "execution_count": 1,
   "metadata": {},
   "outputs": [],
   "source": [
    "import pickle\n",
    "import pandas as pd\n",
    "import numpy as np\n",
    "\n",
    "import matplotlib.pyplot as plt\n",
    "from pylab import rcParams\n",
    "import seaborn as sns\n",
    "import cv2\n",
    "import albumentations as albu\n",
    "%matplotlib inline\n",
    "\n",
    "import tensorflow as tf\n",
    "import keras\n",
    "from keras.models import Sequential, load_model\n",
    "from keras.layers import Conv2D, MaxPool2D, Dropout, Flatten, Dense, GlobalAveragePooling2D \n",
    "from keras.layers.normalization import BatchNormalization\n",
    "from keras.preprocessing.image import ImageDataGenerator\n",
    "from keras.optimizers import Adam, SGD\n",
    "from keras.callbacks import Callback, EarlyStopping, ReduceLROnPlateau\n",
    "from keras.utils import to_categorical\n",
    "from sklearn.metrics import accuracy_score, confusion_matrix, classification_report\n",
    "from skimage.transform import resize\n",
    "from sklearn.model_selection import train_test_split, StratifiedShuffleSplit\n",
    "import efficientnet.keras as efn"
   ]
  },
  {
   "cell_type": "code",
   "execution_count": 12,
   "metadata": {},
   "outputs": [],
   "source": [
    "# File downloaded to local folder\n",
    "def unpickle(file):\n",
    "    with open(file, 'rb') as fo:\n",
    "        myDict = pickle.load(fo, encoding='latin1')\n",
    "    return myDict"
   ]
  },
  {
   "cell_type": "code",
   "execution_count": 55,
   "metadata": {},
   "outputs": [
    {
     "name": "stdout",
     "output_type": "stream",
     "text": [
      "filenames <class 'list'>\n",
      "batch_label <class 'str'>\n",
      "fine_labels <class 'list'>\n",
      "coarse_labels <class 'list'>\n",
      "data <class 'numpy.ndarray'>\n"
     ]
    }
   ],
   "source": [
    "train = unpickle('train')\n",
    "test = unpickle('test')\n",
    "meta = unpickle('meta')\n",
    "\n",
    "for item in train:\n",
    "    print(item, type(train[item]))"
   ]
  },
  {
   "cell_type": "markdown",
   "metadata": {},
   "source": [
    "### Analysis Part I\n",
    "We'll try to see what sort of data we'll be playing with here.\n",
    "We'll also see if we can see a sample of each category."
   ]
  },
  {
   "cell_type": "code",
   "execution_count": 56,
   "metadata": {},
   "outputs": [
    {
     "data": {
      "text/html": [
       "<div>\n",
       "<style scoped>\n",
       "    .dataframe tbody tr th:only-of-type {\n",
       "        vertical-align: middle;\n",
       "    }\n",
       "\n",
       "    .dataframe tbody tr th {\n",
       "        vertical-align: top;\n",
       "    }\n",
       "\n",
       "    .dataframe thead th {\n",
       "        text-align: right;\n",
       "    }\n",
       "</style>\n",
       "<table border=\"1\" class=\"dataframe\">\n",
       "  <thead>\n",
       "    <tr style=\"text-align: right;\">\n",
       "      <th></th>\n",
       "      <th>class</th>\n",
       "      <th>train_volume</th>\n",
       "      <th>test_volume</th>\n",
       "    </tr>\n",
       "  </thead>\n",
       "  <tbody>\n",
       "    <tr>\n",
       "      <th>0</th>\n",
       "      <td>aquatic_mammals</td>\n",
       "      <td>2500</td>\n",
       "      <td>500</td>\n",
       "    </tr>\n",
       "    <tr>\n",
       "      <th>1</th>\n",
       "      <td>fish</td>\n",
       "      <td>2500</td>\n",
       "      <td>500</td>\n",
       "    </tr>\n",
       "    <tr>\n",
       "      <th>2</th>\n",
       "      <td>flowers</td>\n",
       "      <td>2500</td>\n",
       "      <td>500</td>\n",
       "    </tr>\n",
       "    <tr>\n",
       "      <th>3</th>\n",
       "      <td>food_containers</td>\n",
       "      <td>2500</td>\n",
       "      <td>500</td>\n",
       "    </tr>\n",
       "    <tr>\n",
       "      <th>4</th>\n",
       "      <td>fruit_and_vegetables</td>\n",
       "      <td>2500</td>\n",
       "      <td>500</td>\n",
       "    </tr>\n",
       "    <tr>\n",
       "      <th>5</th>\n",
       "      <td>household_electrical_devices</td>\n",
       "      <td>2500</td>\n",
       "      <td>500</td>\n",
       "    </tr>\n",
       "    <tr>\n",
       "      <th>6</th>\n",
       "      <td>household_furniture</td>\n",
       "      <td>2500</td>\n",
       "      <td>500</td>\n",
       "    </tr>\n",
       "    <tr>\n",
       "      <th>7</th>\n",
       "      <td>insects</td>\n",
       "      <td>2500</td>\n",
       "      <td>500</td>\n",
       "    </tr>\n",
       "    <tr>\n",
       "      <th>8</th>\n",
       "      <td>large_carnivores</td>\n",
       "      <td>2500</td>\n",
       "      <td>500</td>\n",
       "    </tr>\n",
       "    <tr>\n",
       "      <th>9</th>\n",
       "      <td>large_man-made_outdoor_things</td>\n",
       "      <td>2500</td>\n",
       "      <td>500</td>\n",
       "    </tr>\n",
       "    <tr>\n",
       "      <th>10</th>\n",
       "      <td>large_natural_outdoor_scenes</td>\n",
       "      <td>2500</td>\n",
       "      <td>500</td>\n",
       "    </tr>\n",
       "    <tr>\n",
       "      <th>11</th>\n",
       "      <td>large_omnivores_and_herbivores</td>\n",
       "      <td>2500</td>\n",
       "      <td>500</td>\n",
       "    </tr>\n",
       "    <tr>\n",
       "      <th>12</th>\n",
       "      <td>medium_mammals</td>\n",
       "      <td>2500</td>\n",
       "      <td>500</td>\n",
       "    </tr>\n",
       "    <tr>\n",
       "      <th>13</th>\n",
       "      <td>non-insect_invertebrates</td>\n",
       "      <td>2500</td>\n",
       "      <td>500</td>\n",
       "    </tr>\n",
       "    <tr>\n",
       "      <th>14</th>\n",
       "      <td>people</td>\n",
       "      <td>2500</td>\n",
       "      <td>500</td>\n",
       "    </tr>\n",
       "    <tr>\n",
       "      <th>15</th>\n",
       "      <td>reptiles</td>\n",
       "      <td>2500</td>\n",
       "      <td>500</td>\n",
       "    </tr>\n",
       "    <tr>\n",
       "      <th>16</th>\n",
       "      <td>small_mammals</td>\n",
       "      <td>2500</td>\n",
       "      <td>500</td>\n",
       "    </tr>\n",
       "    <tr>\n",
       "      <th>17</th>\n",
       "      <td>trees</td>\n",
       "      <td>2500</td>\n",
       "      <td>500</td>\n",
       "    </tr>\n",
       "    <tr>\n",
       "      <th>18</th>\n",
       "      <td>vehicles_1</td>\n",
       "      <td>2500</td>\n",
       "      <td>500</td>\n",
       "    </tr>\n",
       "    <tr>\n",
       "      <th>19</th>\n",
       "      <td>vehicles_2</td>\n",
       "      <td>2500</td>\n",
       "      <td>500</td>\n",
       "    </tr>\n",
       "  </tbody>\n",
       "</table>\n",
       "</div>"
      ],
      "text/plain": [
       "                             class  train_volume  test_volume\n",
       "0                  aquatic_mammals          2500          500\n",
       "1                             fish          2500          500\n",
       "2                          flowers          2500          500\n",
       "3                  food_containers          2500          500\n",
       "4             fruit_and_vegetables          2500          500\n",
       "5     household_electrical_devices          2500          500\n",
       "6              household_furniture          2500          500\n",
       "7                          insects          2500          500\n",
       "8                 large_carnivores          2500          500\n",
       "9    large_man-made_outdoor_things          2500          500\n",
       "10    large_natural_outdoor_scenes          2500          500\n",
       "11  large_omnivores_and_herbivores          2500          500\n",
       "12                  medium_mammals          2500          500\n",
       "13        non-insect_invertebrates          2500          500\n",
       "14                          people          2500          500\n",
       "15                        reptiles          2500          500\n",
       "16                   small_mammals          2500          500\n",
       "17                           trees          2500          500\n",
       "18                      vehicles_1          2500          500\n",
       "19                      vehicles_2          2500          500"
      ]
     },
     "execution_count": 56,
     "metadata": {},
     "output_type": "execute_result"
    }
   ],
   "source": [
    "train_vol = pd.DataFrame(train['coarse_labels'], columns = ['train_volume'])\n",
    "train_vol = pd.DataFrame(train_vol['train_volume'].value_counts())\n",
    "test_vol = pd.DataFrame(test['coarse_labels'], columns = ['test_volume'])\n",
    "test_vol = pd.DataFrame(test_vol['test_volume'].value_counts())\n",
    "df = pd.DataFrame(meta['coarse_label_names'], columns = ['class'])\n",
    "frames = [df, train_vol, test_vol]\n",
    "df = pd.concat(frames, axis = 1)\n",
    "df"
   ]
  },
  {
   "cell_type": "code",
   "execution_count": 57,
   "metadata": {},
   "outputs": [],
   "source": [
    "category = pd.DataFrame(meta['coarse_label_names'], columns = ['SuperClass'])\n",
    "subCategory = pd.DataFrame(meta['fine_label_names'], columns = ['SubClass'])"
   ]
  },
  {
   "cell_type": "code",
   "execution_count": 58,
   "metadata": {},
   "outputs": [
    {
     "data": {
      "text/plain": [
       "array([[255, 255, 255, ...,  10,  59,  79],\n",
       "       [255, 253, 253, ..., 253, 253, 255],\n",
       "       [250, 248, 247, ..., 194, 207, 228],\n",
       "       ...,\n",
       "       [248, 240, 236, ..., 180, 174, 205],\n",
       "       [156, 151, 151, ..., 114, 107, 126],\n",
       "       [ 31,  30,  31, ...,  72,  69,  67]], dtype=uint8)"
      ]
     },
     "execution_count": 58,
     "metadata": {},
     "output_type": "execute_result"
    }
   ],
   "source": [
    "X_train = train['data']\n",
    "X_train"
   ]
  },
  {
   "cell_type": "code",
   "execution_count": 59,
   "metadata": {},
   "outputs": [],
   "source": [
    "X_train = X_train.reshape(len(X_train), 3, 32, 32).transpose(0, 2, 3, 1)"
   ]
  },
  {
   "cell_type": "code",
   "execution_count": 60,
   "metadata": {},
   "outputs": [
    {
     "data": {
      "image/png": "[encoded data removed]",
      "text/plain": [
       "<Figure size 1008x1008 with 20 Axes>"
      ]
     },
     "metadata": {},
     "output_type": "display_data"
    }
   ],
   "source": [
    "rcParams['figure.figsize'] = 14, 14\n",
    "row = 4\n",
    "col = 5\n",
    "\n",
    "class_list = []\n",
    "for n in range(0, 20):\n",
    "    class_list.append(list(train['coarse_labels']).index(n))\n",
    "\n",
    "fig, axes = plt.subplots(row, col)\n",
    "plt.suptitle('Image Samples of Each Class', fontsize = 18)\n",
    "plt.tight_layout(pad = 0.2, w_pad = 1.0, h_pad = 0.5)\n",
    "fig.set_facecolor('white')\n",
    "\n",
    "for i in range(0, row):\n",
    "    for j in range(0, col):\n",
    "        k = (i * col) + j\n",
    "        axes[i, j].imshow(X_train[class_list[k]])\n",
    "        axes[i, j].set_title(category.iloc[train['coarse_labels'][class_list[k]]][0])\n",
    "        axes[i, j].axis('off')\n",
    "\n",
    "plt.savefig('class_image_sample.png', facecolor = fig.get_facecolor())"
   ]
  },
  {
   "cell_type": "markdown",
   "metadata": {},
   "source": [
    "### Modeling\n",
    "Next, we'll try to create a pipeline that breaks down the images within EfficientNetB0 for easier reading.\n",
    "\n",
    "This will be essentially involve us breaking the image down into 3 channels,\n",
    "then resizing the image."
   ]
  },
  {
   "cell_type": "code",
   "execution_count": 61,
   "metadata": {},
   "outputs": [
    {
     "data": {
      "text/plain": [
       "(10000, 32, 32, 3)"
      ]
     },
     "execution_count": 61,
     "metadata": {},
     "output_type": "execute_result"
    }
   ],
   "source": [
    "X_test = test['data']\n",
    "X_test = X_test.reshape(len(X_test), 3, 32, 32).transpose(0, 2, 3, 1)\n",
    "X_test.shape"
   ]
  },
  {
   "cell_type": "code",
   "execution_count": 62,
   "metadata": {},
   "outputs": [],
   "source": [
    "y_train = train['fine_labels']\n",
    "y_test = test['fine_labels']\n",
    "\n",
    "n_classes = 100\n",
    "y_train = to_categorical(y_train, n_classes)\n",
    "y_test = to_categorical(y_test, n_classes)"
   ]
  },
  {
   "cell_type": "code",
   "execution_count": 63,
   "metadata": {},
   "outputs": [
    {
     "name": "stdout",
     "output_type": "stream",
     "text": [
      "Training samples:  40000\n",
      "Validation samples:  10000\n"
     ]
    }
   ],
   "source": [
    "sss = StratifiedShuffleSplit(n_splits = 2, test_size = 0.2, random_state = 123)\n",
    "\n",
    "for train_index, val_index in sss.split(X_train, y_train):\n",
    "    X_train_data, X_val_data = X_train[train_index], X_train[val_index]\n",
    "    y_train_data, y_val_data = y_train[train_index], y_train[val_index]\n",
    "\n",
    "print(\"Training samples: \", X_train_data.shape[0])\n",
    "print(\"Validation samples: \", X_val_data.shape[0])"
   ]
  },
  {
   "cell_type": "code",
   "execution_count": 64,
   "metadata": {},
   "outputs": [],
   "source": [
    "img_shape = 224\n",
    "channels = 3\n",
    "\n",
    "input_shape = (img_shape, img_shape, channels)\n",
    "\n",
    "epochs = 15\n",
    "batch_size = 8"
   ]
  },
  {
   "cell_type": "code",
   "execution_count": 65,
   "metadata": {},
   "outputs": [],
   "source": [
    "def resize_img(img, shape):\n",
    "    return cv2.resize(img, (shape[1], shape[0]), interpolation=cv2.INTER_CUBIC)"
   ]
  },
  {
   "cell_type": "code",
   "execution_count": 66,
   "metadata": {},
   "outputs": [],
   "source": [
    "class DataGenerator(keras.utils.Sequence):\n",
    "    def __init__(self, images, labels = None, mode = 'fit', batch_size = batch_size, \n",
    "                 dim = (img_shape, img_shape), channels = channels, n_classes = n_classes, \n",
    "                 shuffle = True, augment = False):\n",
    "        \n",
    "        self.images = images\n",
    "        self.labels = labels\n",
    "        self.mode = mode\n",
    "        self.batch_size = batch_size\n",
    "        self.dim = dim\n",
    "        self.channels = channels\n",
    "        self.n_classes = n_classes\n",
    "        self.shuffle = shuffle\n",
    "        self.augment = augment\n",
    "        self.on_epoch_end()\n",
    "   \n",
    "    def on_epoch_end(self):\n",
    "        self.indexes = np.arange(self.images.shape[0])\n",
    "        if self.shuffle == True:\n",
    "            np.random.shuffle(self.indexes)\n",
    "    \n",
    "    def __len__(self):\n",
    "        return int(np.floor(len(self.images) / self.batch_size))\n",
    "    \n",
    "    def __getitem__(self, index):\n",
    "        batch_indexes = self.indexes[index * self.batch_size:(index+1) * self.batch_size]\n",
    "        \n",
    "        X = np.empty((self.batch_size, *self.dim, self.channels))\n",
    "        \n",
    "        for i, ID in enumerate(batch_indexes):\n",
    "            img = self.images[ID]  \n",
    "            img = img.astype(np.float32)/255.\n",
    "            img = resize_img(img, self.dim)\n",
    "            X[i] = img\n",
    "            \n",
    "        if self.mode == 'fit':\n",
    "            y = self.labels[batch_indexes]\n",
    "            \n",
    "            if self.augment == True:\n",
    "                X = self.__augment_batch(X)\n",
    "            return X, y\n",
    "        \n",
    "        elif self.mode == 'predict':\n",
    "            return X\n",
    "        \n",
    "        else:\n",
    "            raise AttributeError(\"Mode needs to be either 'fit' or 'predict'.\")\n",
    "            \n",
    "    def __random_transform(self, img):\n",
    "        composition = albu.Compose([albu.HorizontalFlip(p = 0.5),\n",
    "                                   albu.VerticalFlip(p = 0.5),\n",
    "                                   albu.GridDistortion(p = 0.2),\n",
    "                                   albu.ElasticTransform(p = 0.2)])\n",
    "        return composition(image = img)['image']\n",
    "    \n",
    "    def __augment_batch(self, img_batch):\n",
    "        for i in range(img_batch.shape[0]):\n",
    "            img_batch[i] = self.__random_transform(img_batch[i])\n",
    "        return img_batch    "
   ]
  },
  {
   "cell_type": "code",
   "execution_count": 67,
   "metadata": {},
   "outputs": [],
   "source": [
    "train_data_generator = DataGenerator(X_train_data, y_train_data, augment = True)\n",
    "valid_data_generator = DataGenerator(X_val_data, y_val_data, augment = False)"
   ]
  },
  {
   "cell_type": "code",
   "execution_count": 68,
   "metadata": {},
   "outputs": [
    {
     "name": "stdout",
     "output_type": "stream",
     "text": [
      "Model: \"sequential_1\"\n",
      "_________________________________________________________________\n",
      "Layer (type)                 Output Shape              Param #   \n",
      "=================================================================\n",
      "efficientnet-b0 (Functional) (None, 7, 7, 1280)        4049564   \n",
      "_________________________________________________________________\n",
      "global_average_pooling2d_1 ( (None, 1280)              0         \n",
      "_________________________________________________________________\n",
      "dropout_1 (Dropout)          (None, 1280)              0         \n",
      "_________________________________________________________________\n",
      "dense_1 (Dense)              (None, 100)               128100    \n",
      "=================================================================\n",
      "Total params: 4,177,664\n",
      "Trainable params: 4,135,648\n",
      "Non-trainable params: 42,016\n",
      "_________________________________________________________________\n"
     ]
    }
   ],
   "source": [
    "effb0 = efn.EfficientNetB0(weights = 'imagenet', include_top = False, \n",
    "                           input_shape = input_shape, classes = n_classes)\n",
    "\n",
    "model = Sequential()\n",
    "model.add(effb0)\n",
    "model.add(GlobalAveragePooling2D())\n",
    "model.add(Dropout(0.5))\n",
    "model.add(Dense(n_classes, activation = 'softmax'))\n",
    "\n",
    "model.summary()"
   ]
  },
  {
   "cell_type": "code",
   "execution_count": 69,
   "metadata": {},
   "outputs": [],
   "source": [
    "optimizer = Adam(lr = 0.0001)\n",
    "early_stop = EarlyStopping(monitor = 'val_loss', mode = 'min', verbose = 1, patience = 10, \n",
    "                           restore_best_weights = True)\n",
    "rlrop = ReduceLROnPlateau(monitor = 'val_loss', mode = 'min', patience = 5, factor = 0.5, min_lr = 1e-6, \n",
    "                          verbose = 1)"
   ]
  },
  {
   "cell_type": "code",
   "execution_count": 70,
   "metadata": {},
   "outputs": [],
   "source": [
    "model.compile(optimizer = optimizer, loss = 'categorical_crossentropy', metrics = ['accuracy'])"
   ]
  },
  {
   "cell_type": "code",
   "execution_count": 30,
   "metadata": {},
   "outputs": [
    {
     "name": "stderr",
     "output_type": "stream",
     "text": [
      "C:\\Users\\rngaw\\anaconda3\\lib\\site-packages\\tensorflow\\python\\keras\\engine\\training.py:1844: UserWarning: `Model.fit_generator` is deprecated and will be removed in a future version. Please use `Model.fit`, which supports generators.\n",
      "  warnings.warn('`Model.fit_generator` is deprecated and '\n"
     ]
    },
    {
     "name": "stdout",
     "output_type": "stream",
     "text": [
      "Epoch 1/15\n",
      "5000/5000 [==============================] - 9339s 2s/step - loss: 3.4637 - accuracy: 0.2013 - val_loss: 1.1221 - val_accuracy: 0.6701\n",
      "Epoch 2/15\n",
      "5000/5000 [==============================] - 9466s 2s/step - loss: 1.7447 - accuracy: 0.5219 - val_loss: 0.9223 - val_accuracy: 0.7300\n",
      "Epoch 3/15\n",
      "5000/5000 [==============================] - 8952s 2s/step - loss: 1.3862 - accuracy: 0.6140 - val_loss: 0.8458 - val_accuracy: 0.7557\n",
      "Epoch 4/15\n",
      "5000/5000 [==============================] - 8851s 2s/step - loss: 1.2032 - accuracy: 0.6561 - val_loss: 0.8158 - val_accuracy: 0.7758\n",
      "Epoch 5/15\n",
      "5000/5000 [==============================] - 8796s 2s/step - loss: 1.0825 - accuracy: 0.6901 - val_loss: 0.8067 - val_accuracy: 0.7830\n",
      "Epoch 6/15\n",
      "5000/5000 [==============================] - 8794s 2s/step - loss: 0.9651 - accuracy: 0.7218 - val_loss: 0.8090 - val_accuracy: 0.7878\n",
      "Epoch 7/15\n",
      "5000/5000 [==============================] - 8801s 2s/step - loss: 0.8965 - accuracy: 0.7415 - val_loss: 0.7835 - val_accuracy: 0.7944\n",
      "Epoch 8/15\n",
      "5000/5000 [==============================] - 9771s 2s/step - loss: 0.8277 - accuracy: 0.7607 - val_loss: 0.7795 - val_accuracy: 0.8001\n",
      "Epoch 9/15\n",
      "5000/5000 [==============================] - 8809s 2s/step - loss: 0.7623 - accuracy: 0.7744 - val_loss: 0.7896 - val_accuracy: 0.8006\n",
      "Epoch 10/15\n",
      "5000/5000 [==============================] - 8897s 2s/step - loss: 0.7327 - accuracy: 0.7861 - val_loss: 0.7880 - val_accuracy: 0.8018\n",
      "Epoch 11/15\n",
      "5000/5000 [==============================] - 9240s 2s/step - loss: 0.6760 - accuracy: 0.8001 - val_loss: 0.8353 - val_accuracy: 0.8001\n",
      "Epoch 12/15\n",
      "5000/5000 [==============================] - 8781s 2s/step - loss: 0.6465 - accuracy: 0.8093 - val_loss: 0.8077 - val_accuracy: 0.8075\n",
      "Epoch 13/15\n",
      "5000/5000 [==============================] - 8668s 2s/step - loss: 0.5976 - accuracy: 0.8206 - val_loss: 0.8088 - val_accuracy: 0.8122\n",
      "\n",
      "Epoch 00013: ReduceLROnPlateau reducing learning rate to 4.999999873689376e-05.\n",
      "Epoch 14/15\n",
      "5000/5000 [==============================] - 8667s 2s/step - loss: 0.5252 - accuracy: 0.8432 - val_loss: 0.7769 - val_accuracy: 0.8174\n",
      "Epoch 15/15\n",
      "5000/5000 [==============================] - 8659s 2s/step - loss: 0.4802 - accuracy: 0.8548 - val_loss: 0.7832 - val_accuracy: 0.8138\n"
     ]
    }
   ],
   "source": [
    "model_history = model.fit_generator(train_data_generator, validation_data = valid_data_generator, \n",
    "                                    callbacks = [early_stop, rlrop], verbose = 1, epochs = epochs)\n",
    "\n",
    "model.save_weights(\"cifareffnetb0_weights.h5\")"
   ]
  },
  {
   "cell_type": "code",
   "execution_count": 32,
   "metadata": {},
   "outputs": [],
   "source": [
    "model.save('cifar_effb0_model.h5')"
   ]
  },
  {
   "cell_type": "markdown",
   "metadata": {},
   "source": [
    "### Analysis Part II\n",
    "\n",
    "Now that we have our model has finished. We'll be looking into our loss and accuracy.\n",
    "\n",
    "We'll also be seeing how well the classification has done in general."
   ]
  },
  {
   "cell_type": "code",
   "execution_count": 2,
   "metadata": {},
   "outputs": [
    {
     "ename": "NameError",
     "evalue": "name 'plt' is not defined",
     "output_type": "error",
     "traceback": [
      "\u001b[1;31m---------------------------------------------------------------------------\u001b[0m",
      "\u001b[1;31mNameError\u001b[0m                                 Traceback (most recent call last)",
      "\u001b[1;32m<ipython-input-2-eddb88f1e7f8>\u001b[0m in \u001b[0;36m<module>\u001b[1;34m\u001b[0m\n\u001b[1;32m----> 1\u001b[1;33m \u001b[0mplt\u001b[0m\u001b[1;33m.\u001b[0m\u001b[0mfigure\u001b[0m\u001b[1;33m(\u001b[0m\u001b[0mfigsize\u001b[0m \u001b[1;33m=\u001b[0m \u001b[1;33m(\u001b[0m\u001b[1;36m16\u001b[0m\u001b[1;33m,\u001b[0m \u001b[1;36m8\u001b[0m\u001b[1;33m)\u001b[0m\u001b[1;33m)\u001b[0m\u001b[1;33m\u001b[0m\u001b[1;33m\u001b[0m\u001b[0m\n\u001b[0m\u001b[0;32m      2\u001b[0m \u001b[1;33m\u001b[0m\u001b[0m\n\u001b[0;32m      3\u001b[0m \u001b[0mplt\u001b[0m\u001b[1;33m.\u001b[0m\u001b[0msuptitle\u001b[0m\u001b[1;33m(\u001b[0m\u001b[1;34m'Loss and Accuracy'\u001b[0m\u001b[1;33m,\u001b[0m \u001b[0mfontsize\u001b[0m \u001b[1;33m=\u001b[0m \u001b[1;36m16\u001b[0m\u001b[1;33m)\u001b[0m\u001b[1;33m\u001b[0m\u001b[1;33m\u001b[0m\u001b[0m\n\u001b[0;32m      4\u001b[0m \u001b[1;33m\u001b[0m\u001b[0m\n\u001b[0;32m      5\u001b[0m \u001b[0mplt\u001b[0m\u001b[1;33m.\u001b[0m\u001b[0msubplot\u001b[0m\u001b[1;33m(\u001b[0m\u001b[1;36m1\u001b[0m\u001b[1;33m,\u001b[0m\u001b[1;36m2\u001b[0m\u001b[1;33m,\u001b[0m\u001b[1;36m1\u001b[0m\u001b[1;33m)\u001b[0m\u001b[1;33m\u001b[0m\u001b[1;33m\u001b[0m\u001b[0m\n",
      "\u001b[1;31mNameError\u001b[0m: name 'plt' is not defined"
     ]
    }
   ],
   "source": [
    "plt.figure(figsize = (16, 8))\n",
    "\n",
    "plt.suptitle('Loss and Accuracy', fontsize = 16)\n",
    "\n",
    "plt.subplot(1,2,1)\n",
    "plt.plot(model_history.history['loss'], label = 'Training Loss')\n",
    "plt.plot(model_history.history['val_loss'], label = 'Validation Loss')\n",
    "plt.legend()\n",
    "plt.xlabel('Number of epochs', fontsize = 14)\n",
    "plt.ylabel('Loss', fontsize = 14)\n",
    "\n",
    "plt.subplot(1,2,2)\n",
    "plt.plot(model_history.history['accuracy'], label = 'Train Accuracy')\n",
    "plt.plot(model_history.history['val_accuracy'], label = 'Validation Accuracy')\n",
    "plt.legend()\n",
    "plt.xlabel('Number of epochs', fontsize = 12)\n",
    "plt.ylabel('Accuracy', fontsize = 12)\n",
    "plt.show()"
   ]
  },
  {
   "cell_type": "code",
   "execution_count": 34,
   "metadata": {},
   "outputs": [
    {
     "name": "stderr",
     "output_type": "stream",
     "text": [
      "C:\\Users\\rngaw\\anaconda3\\lib\\site-packages\\tensorflow\\python\\keras\\engine\\training.py:1877: UserWarning: `Model.evaluate_generator` is deprecated and will be removed in a future version. Please use `Model.evaluate`, which supports generators.\n",
      "  warnings.warn('`Model.evaluate_generator` is deprecated and '\n"
     ]
    },
    {
     "name": "stdout",
     "output_type": "stream",
     "text": [
      "1250/1250 [==============================] - 394s 315ms/step - loss: 0.7832 - accuracy: 0.8138\n",
      "Validation Accuracy:  81.38 %\n"
     ]
    }
   ],
   "source": [
    "valid_loss, valid_accuracy = model.evaluate_generator(generator = valid_data_generator, verbose = 1)\n",
    "\n",
    "print('Validation Accuracy: ', round((valid_accuracy * 100), 2), \"%\")"
   ]
  },
  {
   "cell_type": "code",
   "execution_count": 35,
   "metadata": {},
   "outputs": [
    {
     "name": "stderr",
     "output_type": "stream",
     "text": [
      "C:\\Users\\rngaw\\anaconda3\\lib\\site-packages\\tensorflow\\python\\keras\\engine\\training.py:1905: UserWarning: `Model.predict_generator` is deprecated and will be removed in a future version. Please use `Model.predict`, which supports generators.\n",
      "  warnings.warn('`Model.predict_generator` is deprecated and '\n"
     ]
    },
    {
     "name": "stdout",
     "output_type": "stream",
     "text": [
      "1250/1250 [==============================] - 364s 290ms/step\n",
      "Test Accuracy:  81.25 %\n"
     ]
    }
   ],
   "source": [
    "y_pred = model.predict_generator(DataGenerator(X_test, mode ='predict', augment = False, \n",
    "                                               shuffle = False), verbose = 1)\n",
    "y_pred = np.argmax(y_pred, axis = 1)\n",
    "test_accuracy = accuracy_score(np.argmax(y_test, axis = 1), y_pred)\n",
    "\n",
    "print('Test Accuracy: ', round((test_accuracy * 100), 2), \"%\")"
   ]
  },
  {
   "cell_type": "code",
   "execution_count": 44,
   "metadata": {},
   "outputs": [
    {
     "name": "stdout",
     "output_type": "stream",
     "text": [
      "[[96  0  0 ...  0  0  0]\n",
      " [ 0 92  0 ...  0  0  0]\n",
      " [ 0  0 70 ...  0  2  0]\n",
      " ...\n",
      " [ 0  0  0 ... 88  0  0]\n",
      " [ 0  0  3 ...  0 72  0]\n",
      " [ 0  0  0 ...  0  1 85]]\n"
     ]
    }
   ],
   "source": [
    "cm = confusion_matrix(np.argmax(y_test, axis=1), y_pred)\n",
    "print(cm)"
   ]
  },
  {
   "cell_type": "code",
   "execution_count": 43,
   "metadata": {},
   "outputs": [
    {
     "name": "stdout",
     "output_type": "stream",
     "text": [
      "              precision    recall  f1-score   support\n",
      "\n",
      "  Category 0       0.88      0.96      0.92       100\n",
      "  Category 1       0.92      0.92      0.92       100\n",
      "  Category 2       0.67      0.70      0.68       100\n",
      "  Category 3       0.76      0.64      0.70       100\n",
      "  Category 4       0.72      0.67      0.69       100\n",
      "  Category 5       0.74      0.83      0.78       100\n",
      "  Category 6       0.83      0.95      0.88       100\n",
      "  Category 7       0.85      0.84      0.84       100\n",
      "  Category 8       0.96      0.97      0.97       100\n",
      "  Category 9       0.89      0.93      0.91       100\n",
      " Category 10       0.69      0.54      0.61       100\n",
      " Category 11       0.53      0.49      0.51       100\n",
      " Category 12       0.90      0.77      0.83       100\n",
      " Category 13       0.86      0.68      0.76       100\n",
      " Category 14       0.96      0.87      0.91       100\n",
      " Category 15       0.86      0.89      0.87       100\n",
      " Category 16       0.81      0.80      0.80       100\n",
      " Category 17       0.92      0.87      0.89       100\n",
      " Category 18       0.85      0.83      0.84       100\n",
      " Category 19       0.82      0.82      0.82       100\n",
      " Category 20       0.82      0.93      0.87       100\n",
      " Category 21       0.90      0.91      0.91       100\n",
      " Category 22       0.87      0.88      0.88       100\n",
      " Category 23       0.85      0.82      0.84       100\n",
      " Category 24       0.95      0.84      0.89       100\n",
      " Category 25       0.75      0.66      0.70       100\n",
      " Category 26       0.91      0.77      0.83       100\n",
      " Category 27       0.78      0.74      0.76       100\n",
      " Category 28       0.72      0.93      0.81       100\n",
      " Category 29       0.88      0.81      0.84       100\n",
      " Category 30       0.79      0.72      0.75       100\n",
      " Category 31       0.86      0.77      0.81       100\n",
      " Category 32       0.78      0.87      0.82       100\n",
      " Category 33       0.71      0.78      0.74       100\n",
      " Category 34       0.83      0.87      0.85       100\n",
      " Category 35       0.64      0.47      0.54       100\n",
      " Category 36       0.85      0.90      0.87       100\n",
      " Category 37       0.88      0.79      0.83       100\n",
      " Category 38       0.83      0.69      0.75       100\n",
      " Category 39       0.87      0.94      0.90       100\n",
      " Category 40       0.86      0.79      0.82       100\n",
      " Category 41       0.93      0.90      0.91       100\n",
      " Category 42       0.81      0.81      0.81       100\n",
      " Category 43       0.88      0.93      0.90       100\n",
      " Category 44       0.74      0.81      0.78       100\n",
      " Category 45       0.82      0.72      0.77       100\n",
      " Category 46       0.54      0.64      0.59       100\n",
      " Category 47       0.76      0.50      0.60       100\n",
      " Category 48       0.93      0.95      0.94       100\n",
      " Category 49       0.91      0.90      0.90       100\n",
      " Category 50       0.78      0.69      0.73       100\n",
      " Category 51       0.87      0.95      0.91       100\n",
      " Category 52       0.57      0.83      0.67       100\n",
      " Category 53       0.83      0.98      0.90       100\n",
      " Category 54       0.91      0.87      0.89       100\n",
      " Category 55       0.63      0.72      0.67       100\n",
      " Category 56       0.97      0.84      0.90       100\n",
      " Category 57       0.92      0.81      0.86       100\n",
      " Category 58       0.91      0.92      0.92       100\n",
      " Category 59       0.72      0.63      0.67       100\n",
      " Category 60       0.84      0.79      0.81       100\n",
      " Category 61       0.79      0.76      0.78       100\n",
      " Category 62       0.80      0.86      0.83       100\n",
      " Category 63       0.75      0.85      0.79       100\n",
      " Category 64       0.80      0.66      0.73       100\n",
      " Category 65       0.64      0.89      0.75       100\n",
      " Category 66       0.86      0.86      0.86       100\n",
      " Category 67       0.89      0.66      0.76       100\n",
      " Category 68       0.81      0.96      0.88       100\n",
      " Category 69       0.91      0.90      0.90       100\n",
      " Category 70       0.87      0.86      0.86       100\n",
      " Category 71       0.73      0.90      0.80       100\n",
      " Category 72       0.61      0.55      0.58       100\n",
      " Category 73       0.77      0.75      0.76       100\n",
      " Category 74       0.66      0.69      0.67       100\n",
      " Category 75       0.90      0.94      0.92       100\n",
      " Category 76       0.94      0.90      0.92       100\n",
      " Category 77       0.88      0.86      0.87       100\n",
      " Category 78       0.76      0.86      0.81       100\n",
      " Category 79       0.91      0.93      0.92       100\n",
      " Category 80       0.81      0.71      0.76       100\n",
      " Category 81       0.71      0.79      0.75       100\n",
      " Category 82       0.97      0.99      0.98       100\n",
      " Category 83       0.86      0.77      0.81       100\n",
      " Category 84       0.84      0.69      0.76       100\n",
      " Category 85       0.92      0.90      0.91       100\n",
      " Category 86       0.88      0.82      0.85       100\n",
      " Category 87       0.91      0.94      0.93       100\n",
      " Category 88       0.89      0.81      0.85       100\n",
      " Category 89       0.89      0.93      0.91       100\n",
      " Category 90       0.77      0.92      0.84       100\n",
      " Category 91       0.96      0.86      0.91       100\n",
      " Category 92       0.77      0.71      0.74       100\n",
      " Category 93       0.73      0.85      0.79       100\n",
      " Category 94       0.96      0.91      0.93       100\n",
      " Category 95       0.79      0.84      0.81       100\n",
      " Category 96       0.65      0.68      0.67       100\n",
      " Category 97       0.72      0.88      0.79       100\n",
      " Category 98       0.60      0.72      0.65       100\n",
      " Category 99       0.82      0.85      0.83       100\n",
      "\n",
      "    accuracy                           0.81     10000\n",
      "   macro avg       0.82      0.81      0.81     10000\n",
      "weighted avg       0.82      0.81      0.81     10000\n",
      "\n"
     ]
    }
   ],
   "source": [
    "target = [\"Category {}\".format(i) for i in range(n_classes)]\n",
    "print(classification_report(np.argmax(y_test, axis = 1), y_pred, target_names = target))"
   ]
  },
  {
   "cell_type": "markdown",
   "metadata": {},
   "source": [
    "# Conclusion\n",
    "\n",
    "## Model Reasoning\n",
    "\n",
    "For regularization, I used drop-out. This technique removes a random number of activators within the model. That is to say, at every iteration, a node is randomly selected and all the input and output connections are removed. I used a value of 0.5 (50%) for the hidden layers to avoid overfitting in my model. As there are around 4.2 million parameters in my model, drop-out gives the outputs that are participating to be randomply subsampled, lowering the chances of overfitting.\n",
    "\n",
    "My reasoning for choosing drop-out was to introduce more randomness within the model. Another reason was to introduce sparse representation in my model, to accelerate learning and simplify the model (given my available resources).\n",
    "\n",
    "EfficientNet-B0 was used as my architecture due to its effectiveness, computational power (given my computer's lack of CPU), and accuracy prediction when compared to other architectures such as DenseNet-201, ResNet-50, Inception-v2 etc.\n",
    "This architecture scales uniformly, scales dimensions by a fixed amount simultaneously, helping to achieving better performance over earlier models, and this playthrough was a test to that.\n",
    "\n",
    "EfficientNet in general has a cost efficient method for transfer learning. \n",
    "That is to say, with how EfficientNet scales the depth, width, and resolution of images, I can use the model here, for a new set of problems, if the need arises. For example, I could probably use this model on the ImageNet data, which contains more than 1.2 million images.\n",
    "Furthermore in regards to effectiveness and accuracy, this architecture divides the original convolution of an activation into two stages, depthwise and pointwise, which further reducing the cost of calculation all at a minimum loss of accuracy.\n",
    "Also, this architecture uses linear activation at each block in the last layer to prevent losses of info from ReLU.\n",
    "\n",
    "B0 was used in particular because of the amount of parameters that would be used in the model, ultimately roughly 4.2 million.\n",
    "That is to say, I did not see the need to create an \"overtly complex\" model, especially given the resources I have.\n",
    "Higher Bs, such as B1~B7, would utilize more parameters.\n",
    "\n",
    "\n",
    "## Metrics\n",
    "Ultimately the accuracy score (for either validation purposes or test) was about 81%.\n",
    "For the f1-score, it's weighted average (against all categories) was also around 81%.\n",
    "\n",
    "To preface my thoughts, we'll begin by referring back to the df created earlier.\n",
    "We see that all categories (if we're looking at just the super class) are evenly distributed.\n",
    "\n",
    "As accuracy is essentially the equation, (TP + TN) / (TP + TN + FP + FN), roughly 19% of the data was misclassified. This gives me the sense that the data was not overfitted, nor underfitted.\n",
    "\n",
    "I would say, that an accuracy of 81% is great, especially given that the data was evenly distributed against all categories. I think that once the data hits an accuracy of 87% or more, we most likely would be hitting overfitted territory.\n",
    "\n",
    "Precision and Recall are particularly interesting because they as at 82% and 81% respectively.\n",
    "At such levels, we're effectively classifying images at a great rate, on par with that of the accuracy score. Precision and Recall are essentially, how well the model is correctly identifying images and how well it can spot the wrong image classifications, respectively.\n",
    "\n",
    "As for the f1-score, I feel that the f1-score is not as important, but it did do poorly. As the equation is TP / (TP + (.5 * (FP + FN))), we would be looking more to see if rarer categories are correctly identified.\n",
    "\n",
    "That is to say, the data detected had an 81% of detecting true negatives (the image is that of another category). Which is a fair amount of mis-classification. For the purposes of this test, I don't think the F1-score is as important, and could probably be ignored.\n",
    "Especially since the f1-score is not really suitable for balance data. \n",
    "\n",
    "Ultimately, we would probably need a few more measures, especially for future test, such as the MCC score, if we want to get a better sense of how well the model is doing.\n",
    "I do think that just accuracy and F1 alone, are not enough to gauge how good the model is, or how it can be given bigger datasets, but it does help give a sense or where to aim for."
   ]
  },
  {
   "cell_type": "markdown",
   "metadata": {},
   "source": []
  }
 ],
 "metadata": {
  "kernelspec": {
   "display_name": "Python 3",
   "language": "python",
   "name": "python3"
  },
  "language_info": {
   "codemirror_mode": {
    "name": "ipython",
    "version": 3
   },
   "file_extension": ".py",
   "mimetype": "text/x-python",
   "name": "python",
   "nbconvert_exporter": "python",
   "pygments_lexer": "ipython3",
   "version": "3.8.5"
  }
 },
 "nbformat": 4,
 "nbformat_minor": 2
}
